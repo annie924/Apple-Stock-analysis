{
 "cells": [
  {
   "cell_type": "code",
   "execution_count": 1,
   "id": "29c7c450-fdaa-4f3d-8e1d-b81dc2473f65",
   "metadata": {
    "vscode": {
     "languageId": "r"
    }
   },
   "outputs": [
    {
     "name": "stderr",
     "output_type": "stream",
     "text": [
      "Warning message:\n",
      "\"package 'dplyr' was built under R version 4.3.1\"\n",
      "\n",
      "Attaching package: 'dplyr'\n",
      "\n",
      "\n",
      "The following objects are masked from 'package:stats':\n",
      "\n",
      "    filter, lag\n",
      "\n",
      "\n",
      "The following objects are masked from 'package:base':\n",
      "\n",
      "    intersect, setdiff, setequal, union\n",
      "\n",
      "\n",
      "Warning message:\n",
      "\"package 'ggplot2' was built under R version 4.3.1\"\n"
     ]
    }
   ],
   "source": [
    "library(dplyr)\n",
    "library(ggplot2)"
   ]
  },
  {
   "cell_type": "code",
   "execution_count": 2,
   "id": "6f1473a6-3b68-4374-9531-3ac291b84c1f",
   "metadata": {
    "vscode": {
     "languageId": "r"
    }
   },
   "outputs": [
    {
     "data": {
      "text/html": [
       "<table class=\"dataframe\">\n",
       "<caption>A data.frame: 6 × 8</caption>\n",
       "<thead>\n",
       "\t<tr><th></th><th scope=col>Date</th><th scope=col>Open</th><th scope=col>High</th><th scope=col>Low</th><th scope=col>Close</th><th scope=col>Day.Difference</th><th scope=col>Adj.Close</th><th scope=col>Volume</th></tr>\n",
       "\t<tr><th></th><th scope=col>&lt;chr&gt;</th><th scope=col>&lt;dbl&gt;</th><th scope=col>&lt;dbl&gt;</th><th scope=col>&lt;dbl&gt;</th><th scope=col>&lt;dbl&gt;</th><th scope=col>&lt;dbl&gt;</th><th scope=col>&lt;dbl&gt;</th><th scope=col>&lt;dbl&gt;</th></tr>\n",
       "</thead>\n",
       "<tbody>\n",
       "\t<tr><th scope=row>1</th><td>12-12-1980</td><td>0.128348</td><td>0.128906</td><td>0.128348</td><td>0.128348</td><td> 0.00000</td><td>0.099450</td><td>469033600</td></tr>\n",
       "\t<tr><th scope=row>2</th><td>15-12-1980</td><td>0.122210</td><td>0.122210</td><td>0.121652</td><td>0.121652</td><td>-0.00056</td><td>0.094261</td><td>175884800</td></tr>\n",
       "\t<tr><th scope=row>3</th><td>16-12-1980</td><td>0.113281</td><td>0.113281</td><td>0.112723</td><td>0.112723</td><td>-0.00056</td><td>0.087343</td><td>105728000</td></tr>\n",
       "\t<tr><th scope=row>4</th><td>17-12-1980</td><td>0.115513</td><td>0.116071</td><td>0.115513</td><td>0.115513</td><td> 0.00000</td><td>0.089504</td><td> 86441600</td></tr>\n",
       "\t<tr><th scope=row>5</th><td>18-12-1980</td><td>0.118862</td><td>0.119420</td><td>0.118862</td><td>0.118862</td><td> 0.00000</td><td>0.092099</td><td> 73449600</td></tr>\n",
       "\t<tr><th scope=row>6</th><td>19-12-1980</td><td>0.126116</td><td>0.126674</td><td>0.126116</td><td>0.126116</td><td> 0.00000</td><td>0.097720</td><td> 48630400</td></tr>\n",
       "</tbody>\n",
       "</table>\n"
      ],
      "text/latex": [
       "A data.frame: 6 × 8\n",
       "\\begin{tabular}{r|llllllll}\n",
       "  & Date & Open & High & Low & Close & Day.Difference & Adj.Close & Volume\\\\\n",
       "  & <chr> & <dbl> & <dbl> & <dbl> & <dbl> & <dbl> & <dbl> & <dbl>\\\\\n",
       "\\hline\n",
       "\t1 & 12-12-1980 & 0.128348 & 0.128906 & 0.128348 & 0.128348 &  0.00000 & 0.099450 & 469033600\\\\\n",
       "\t2 & 15-12-1980 & 0.122210 & 0.122210 & 0.121652 & 0.121652 & -0.00056 & 0.094261 & 175884800\\\\\n",
       "\t3 & 16-12-1980 & 0.113281 & 0.113281 & 0.112723 & 0.112723 & -0.00056 & 0.087343 & 105728000\\\\\n",
       "\t4 & 17-12-1980 & 0.115513 & 0.116071 & 0.115513 & 0.115513 &  0.00000 & 0.089504 &  86441600\\\\\n",
       "\t5 & 18-12-1980 & 0.118862 & 0.119420 & 0.118862 & 0.118862 &  0.00000 & 0.092099 &  73449600\\\\\n",
       "\t6 & 19-12-1980 & 0.126116 & 0.126674 & 0.126116 & 0.126116 &  0.00000 & 0.097720 &  48630400\\\\\n",
       "\\end{tabular}\n"
      ],
      "text/markdown": [
       "\n",
       "A data.frame: 6 × 8\n",
       "\n",
       "| <!--/--> | Date &lt;chr&gt; | Open &lt;dbl&gt; | High &lt;dbl&gt; | Low &lt;dbl&gt; | Close &lt;dbl&gt; | Day.Difference &lt;dbl&gt; | Adj.Close &lt;dbl&gt; | Volume &lt;dbl&gt; |\n",
       "|---|---|---|---|---|---|---|---|---|\n",
       "| 1 | 12-12-1980 | 0.128348 | 0.128906 | 0.128348 | 0.128348 |  0.00000 | 0.099450 | 469033600 |\n",
       "| 2 | 15-12-1980 | 0.122210 | 0.122210 | 0.121652 | 0.121652 | -0.00056 | 0.094261 | 175884800 |\n",
       "| 3 | 16-12-1980 | 0.113281 | 0.113281 | 0.112723 | 0.112723 | -0.00056 | 0.087343 | 105728000 |\n",
       "| 4 | 17-12-1980 | 0.115513 | 0.116071 | 0.115513 | 0.115513 |  0.00000 | 0.089504 |  86441600 |\n",
       "| 5 | 18-12-1980 | 0.118862 | 0.119420 | 0.118862 | 0.118862 |  0.00000 | 0.092099 |  73449600 |\n",
       "| 6 | 19-12-1980 | 0.126116 | 0.126674 | 0.126116 | 0.126116 |  0.00000 | 0.097720 |  48630400 |\n",
       "\n"
      ],
      "text/plain": [
       "  Date       Open     High     Low      Close    Day.Difference Adj.Close\n",
       "1 12-12-1980 0.128348 0.128906 0.128348 0.128348  0.00000       0.099450 \n",
       "2 15-12-1980 0.122210 0.122210 0.121652 0.121652 -0.00056       0.094261 \n",
       "3 16-12-1980 0.113281 0.113281 0.112723 0.112723 -0.00056       0.087343 \n",
       "4 17-12-1980 0.115513 0.116071 0.115513 0.115513  0.00000       0.089504 \n",
       "5 18-12-1980 0.118862 0.119420 0.118862 0.118862  0.00000       0.092099 \n",
       "6 19-12-1980 0.126116 0.126674 0.126116 0.126116  0.00000       0.097720 \n",
       "  Volume   \n",
       "1 469033600\n",
       "2 175884800\n",
       "3 105728000\n",
       "4  86441600\n",
       "5  73449600\n",
       "6  48630400"
      ]
     },
     "metadata": {},
     "output_type": "display_data"
    }
   ],
   "source": [
    "AAPL <- read.csv(\"AAPL.csv\",header = T)\n",
    "head(AAPL)\n"
   ]
  },
  {
   "cell_type": "code",
   "execution_count": 2,
   "id": "7041e3b2-eea8-43e8-bafc-9f2c211cbae8",
   "metadata": {
    "vscode": {
     "languageId": "r"
    }
   },
   "outputs": [
    {
     "data": {
      "text/html": [
       "2"
      ],
      "text/latex": [
       "2"
      ],
      "text/markdown": [
       "2"
      ],
      "text/plain": [
       "[1] 2"
      ]
     },
     "metadata": {},
     "output_type": "display_data"
    }
   ],
   "source": [
    "ds"
   ]
  },
  {
   "cell_type": "code",
   "execution_count": null,
   "id": "9e7bfa86",
   "metadata": {
    "vscode": {
     "languageId": "r"
    }
   },
   "outputs": [],
   "source": []
  }
 ],
 "metadata": {
  "kernelspec": {
   "display_name": "R",
   "language": "R",
   "name": "ir"
  },
  "language_info": {
   "codemirror_mode": "r",
   "file_extension": ".r",
   "mimetype": "text/x-r-source",
   "name": "R",
   "pygments_lexer": "r",
   "version": "4.3.0"
  }
 },
 "nbformat": 4,
 "nbformat_minor": 5
}
